{
 "cells": [
  {
   "cell_type": "code",
   "execution_count": 0,
   "metadata": {
    "application/vnd.databricks.v1+cell": {
     "cellMetadata": {
      "byteLimit": 2048000,
      "rowLimit": 10000
     },
     "inputWidgets": {},
     "nuid": "1612e3d0-bb5f-4fc3-b5c9-66347112f56e",
     "showTitle": false,
     "tableResultSettingsMap": {},
     "title": ""
    }
   },
   "outputs": [],
   "source": [
    "# Convert Spark table to Pandas\n",
    "df = spark.table(\"Gold_Sales_By_City_Month\").toPandas()\n",
    "\n",
    "# Total rows\n",
    "total_rows = df.shape[0]\n",
    "print(f\"Total rows: {total_rows}\")\n",
    "\n",
    "# Number of unique cities\n",
    "num_cities = df['City'].nunique()\n",
    "print(f\"Number of cities: {num_cities}\")\n",
    "\n",
    "# Rows per city\n",
    "rows_per_city = df.groupby(\"City\").size()\n",
    "print(\"\\nRows per city:\")\n",
    "print(rows_per_city)\n",
    "\n",
    "# Rows per feature ratio (rough estimate)\n",
    "feature_cols = [\"Month_Num\", \"lag_1\", \"lag_2\", \"lag_3\", \"lag_6\",\n",
    "                \"rolling_avg_3\", \"rolling_std_3\", \"month_sin\", \"month_cos\"]\n",
    "rows_per_feature = total_rows / len(feature_cols)\n",
    "print(f\"\\nTotal rows per feature (approx): {rows_per_feature:.2f}\")\n"
   ]
  },
  {
   "cell_type": "code",
   "execution_count": 0,
   "metadata": {
    "application/vnd.databricks.v1+cell": {
     "cellMetadata": {
      "byteLimit": 2048000,
      "rowLimit": 10000
     },
     "inputWidgets": {},
     "nuid": "0d88a7f7-11e6-4edf-974c-a5b270e738ce",
     "showTitle": false,
     "tableResultSettingsMap": {},
     "title": ""
    }
   },
   "outputs": [],
   "source": [
    "# ======================================\n",
    "# Databricks Free Edition - Regression + SARIMA + MLflow\n",
    "# ======================================\n",
    "\n",
    "# --- MLflow setup with Databricks workaround ---\n",
    "import mlflow\n",
    "import databricks.connect as db_connect\n",
    "import mlflow.tracking._model_registry.utils\n",
    "\n",
    "# Workaround to set the registry URI manually\n",
    "mlflow.tracking._model_registry.utils._get_registry_uri_from_spark_session = lambda: \"databricks-uc\"\n",
    "mlflow.login()  # prints: INFO-log: Login successful!\n",
    "\n",
    "# --- Imports ---\n",
    "import pandas as pd\n",
    "import numpy as np\n",
    "from sklearn.linear_model import LinearRegression\n",
    "from sklearn.metrics import mean_squared_error\n",
    "import joblib\n",
    "import plotly.graph_objects as go\n",
    "from statsmodels.tsa.statespace.sarimax import SARIMAX\n",
    "from statsmodels.tools.sm_exceptions import ConvergenceWarning\n",
    "import warnings\n",
    "warnings.simplefilter('ignore', ConvergenceWarning)\n",
    "\n",
    "# ======================================\n",
    "# Load data\n",
    "# ======================================\n",
    "df_spark = spark.table(\"Gold_Sales_By_City_Month\")\n",
    "df = df_spark.toPandas()\n",
    "df[\"Month_Num\"] = df[\"Year\"] * 12 + df[\"Month\"]\n",
    "df = df.sort_values([\"City\", \"Month_Num\"])\n",
    "cities = df[\"City\"].unique()\n",
    "\n",
    "# ======================================\n",
    "# Feature engineering for Linear Regression\n",
    "# ======================================\n",
    "for lag in [1,2,3,6]:\n",
    "    df[f\"lag_{lag}\"] = df.groupby(\"City\")[\"Total_Sales\"].shift(lag).fillna(0)\n",
    "df[\"rolling_avg_3\"] = df.groupby(\"City\")[\"Total_Sales\"].rolling(3, min_periods=1).mean().reset_index(0, drop=True)\n",
    "df[\"rolling_std_3\"] = df.groupby(\"City\")[\"Total_Sales\"].rolling(3, min_periods=1).std().reset_index(0, drop=True).fillna(0)\n",
    "df[\"month_sin\"] = np.sin(2 * np.pi * df[\"Month\"] / 12)\n",
    "df[\"month_cos\"] = np.cos(2 * np.pi * df[\"Month\"] / 12)\n",
    "\n",
    "df_lr = pd.get_dummies(df, columns=[\"City\"], drop_first=True)\n",
    "feature_cols = [c for c in df_lr.columns if c not in [\"Total_Sales\",\"Year\",\"Month\"]]\n",
    "\n",
    "cutoff = int(0.8 * len(df_lr))\n",
    "train_df = df_lr.iloc[:cutoff]\n",
    "test_df = df_lr.iloc[cutoff:]\n",
    "\n",
    "X_train = train_df[feature_cols].values\n",
    "y_train = train_df[\"Total_Sales\"].values\n",
    "X_test = test_df[feature_cols].values\n",
    "y_test = test_df[\"Total_Sales\"].values\n",
    "\n",
    "# ======================================\n",
    "# MLflow experiment setup\n",
    "# ======================================\n",
    "mlflow.set_experiment(\"/Users/amirrezakha@yahoo.com/Retail_ML_Experiments\")\n",
    "\n",
    "# ======================================\n",
    "# Linear Regression model\n",
    "# ======================================\n",
    "with mlflow.start_run(run_name=\"LinearRegression\") as run:\n",
    "    lr_model = LinearRegression()\n",
    "    lr_model.fit(X_train, y_train)\n",
    "    preds_lr = lr_model.predict(X_test)\n",
    "    rmse_lr = mean_squared_error(y_test, preds_lr, squared=False)\n",
    "    \n",
    "    mlflow.log_param(\"model_type\", \"LinearRegression\")\n",
    "    mlflow.log_param(\"features\", feature_cols)\n",
    "    mlflow.log_metric(\"rmse\", rmse_lr)\n",
    "    \n",
    "    local_model_path = \"/tmp/lr_model.pkl\"\n",
    "    joblib.dump(lr_model, local_model_path)\n",
    "    mlflow.log_artifact(local_model_path, artifact_path=\"model\")\n",
    "    \n",
    "    print(f\"LinearRegression RMSE: {rmse_lr}\")\n",
    "\n",
    "# ======================================\n",
    "# SARIMA per city\n",
    "# ======================================\n",
    "arima_results = {}\n",
    "for city in cities:\n",
    "    city_df = df[df[\"City\"]==city].sort_values(\"Month_Num\")\n",
    "    ts_train = city_df[\"Total_Sales\"].iloc[:int(0.8*len(city_df))]\n",
    "    ts_test = city_df[\"Total_Sales\"].iloc[int(0.8*len(city_df)):]\n",
    "    \n",
    "    try:\n",
    "        sarima_model = SARIMAX(ts_train, order=(1,1,1), seasonal_order=(1,1,1,12),\n",
    "                               enforce_stationarity=False, enforce_invertibility=False).fit(disp=False)\n",
    "        preds_sarima = sarima_model.forecast(len(ts_test))\n",
    "        rmse_sarima = mean_squared_error(ts_test, preds_sarima, squared=False)\n",
    "        arima_results[city] = {\"model\": sarima_model, \"rmse\": rmse_sarima,\n",
    "                               \"preds\": preds_sarima, \"test\": ts_test,\n",
    "                               \"month_num\": city_df[\"Month_Num\"].iloc[int(0.8*len(city_df)):] }\n",
    "        \n",
    "        # Log each SARIMA city run to MLflow\n",
    "        with mlflow.start_run(run_name=f\"SARIMA_{city}\", nested=True):\n",
    "            mlflow.log_param(\"model_type\", \"SARIMA\")\n",
    "            mlflow.log_param(\"city\", city)\n",
    "            mlflow.log_param(\"order\", (1,1,1))\n",
    "            mlflow.log_param(\"seasonal_order\", (1,1,1,12))\n",
    "            mlflow.log_metric(\"rmse\", rmse_sarima)\n",
    "        \n",
    "        print(f\"SARIMA {city} RMSE: {rmse_sarima}\")\n",
    "    except Exception as e:\n",
    "        print(f\"SARIMA failed for {city}: {e}\")\n",
    "\n",
    "# ======================================\n",
    "# Plot actual vs predictions\n",
    "# ======================================\n",
    "fig = go.Figure()\n",
    "\n",
    "# Linear Regression\n",
    "fig.add_trace(go.Scatter(\n",
    "    x=test_df[\"Month_Num\"], y=preds_lr,\n",
    "    mode='lines+markers', name=\"LinearRegression\",\n",
    "    line=dict(color='blue', width=3, dash='dash')\n",
    "))\n",
    "\n",
    "# SARIMA per city\n",
    "colors = ['red','green','orange','purple','brown']\n",
    "for i, (city, res) in enumerate(arima_results.items()):\n",
    "    fig.add_trace(go.Scatter(\n",
    "        x=res[\"month_num\"], y=res[\"preds\"],\n",
    "        mode='lines+markers', name=f\"SARIMA_{city}\",\n",
    "        line=dict(color=colors[i%len(colors)], width=2, dash='dot')\n",
    "    ))\n",
    "\n",
    "# Actual\n",
    "fig.add_trace(go.Scatter(\n",
    "    x=test_df[\"Month_Num\"], y=test_df[\"Total_Sales\"],\n",
    "    mode='lines+markers', name=\"Actual\",\n",
    "    line=dict(color='black', width=4)\n",
    "))\n",
    "\n",
    "fig.update_layout(\n",
    "    title=\"Actual vs Predicted Total Sales\",\n",
    "    xaxis_title=\"Month_Num\",\n",
    "    yaxis_title=\"Total_Sales\",\n",
    "    template=\"plotly_white\",\n",
    "    legend=dict(x=0.02, y=0.98)\n",
    ")\n",
    "fig.show()\n",
    "\n",
    "# ======================================\n",
    "# Summary RMSE\n",
    "# ======================================\n",
    "print(\"\\nLinearRegression RMSE:\", rmse_lr)\n",
    "for city, res in arima_results.items():\n",
    "    print(f\"SARIMA {city} RMSE: {res['rmse']}\")\n"
   ]
  }
 ],
 "metadata": {
  "application/vnd.databricks.v1+notebook": {
   "computePreferences": {
    "hardware": {
     "accelerator": null,
     "gpuPoolId": null,
     "memory": "STANDARD"
    }
   },
   "dashboards": [],
   "environmentMetadata": {
    "base_environment": "",
    "environment_version": "2"
   },
   "inputWidgetPreferences": null,
   "language": "python",
   "notebookMetadata": {
    "pythonIndentUnit": 4
   },
   "notebookName": "Retail_ml_Regression",
   "widgets": {}
  },
  "dependencies": {
   "lakehouse": {
    "default_lakehouse": "474a6200-1c4a-4e69-83b4-ef327ce76c41",
    "default_lakehouse_name": "retail",
    "default_lakehouse_workspace_id": "07c9281e-fed4-4aa3-aa2f-fb3b5ede90da",
    "known_lakehouses": [
     {
      "id": "474a6200-1c4a-4e69-83b4-ef327ce76c41"
     }
    ]
   }
  },
  "kernel_info": {
   "name": "synapse_pyspark"
  },
  "language_info": {
   "name": "python"
  },
  "microsoft": {
   "language": "python",
   "language_group": "synapse_pyspark",
   "ms_spell_check": {
    "ms_spell_check_language": "en"
   }
  },
  "nteract": {
   "version": "nteract-front-end@1.0.0"
  },
  "orig_nbformat": 4,
  "spark_compute": {
   "compute_id": "/trident/default",
   "session_options": {
    "conf": {
     "spark.synapse.nbs.session.timeout": "1200000"
    }
   }
  }
 },
 "nbformat": 4,
 "nbformat_minor": 0
}
