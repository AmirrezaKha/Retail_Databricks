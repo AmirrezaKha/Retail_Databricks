{
 "cells": [
  {
   "cell_type": "code",
   "execution_count": 0,
   "metadata": {
    "application/vnd.databricks.v1+cell": {
     "cellMetadata": {},
     "inputWidgets": {},
     "nuid": "37602b59-4c56-40f8-9d4e-ad7a47514968",
     "showTitle": false,
     "tableResultSettingsMap": {},
     "title": ""
    },
    "microsoft": {
     "language": "python",
     "language_group": "synapse_pyspark"
    }
   },
   "outputs": [],
   "source": [
    "# ======================================\n",
    "# Fabric Notebook 1: Regression Models (Enhanced)\n",
    "# ======================================\n",
    "\n",
    "from pyspark.sql.functions import col, lag, avg\n",
    "from pyspark.sql.window import Window\n",
    "from pyspark.ml.feature import VectorAssembler\n",
    "from pyspark.ml.regression import LinearRegression, DecisionTreeRegressor, RandomForestRegressor, GBTRegressor\n",
    "from pyspark.ml.evaluation import RegressionEvaluator\n",
    "from pyspark.ml import Pipeline\n",
    "from pyspark.ml.tuning import CrossValidator, ParamGridBuilder\n",
    "import mlflow\n",
    "import mlflow.spark\n",
    "from mlflow import MlflowClient\n",
    "import plotly.graph_objects as go\n",
    "\n",
    "# Optional XGBoost\n",
    "try:\n",
    "    from sparkxgb import XGBoostRegressor\n",
    "    has_xgb = True\n",
    "except:\n",
    "    has_xgb = False\n",
    "\n",
    "# ======================================\n",
    "# MLflow setup\n",
    "# ======================================\n",
    "mlflow.set_experiment(\"Retail_ML_Experiments\")\n",
    "client = MlflowClient()\n",
    "registry_name = \"retail_ML_regression\"\n",
    "try:\n",
    "    client.create_registered_model(registry_name)\n",
    "    print(f\"✅ Created registry {registry_name}\")\n",
    "except:\n",
    "    print(f\"ℹ️ Registry {registry_name} already exists\")\n",
    "\n",
    "# ======================================\n",
    "# Load and prepare data\n",
    "# ======================================\n",
    "df = spark.table(\"Gold_Sales_By_City_Month\").withColumn(\"Month_Num\", col(\"Year\")*12 + col(\"Month\"))\n",
    "\n",
    "# Add lag features and rolling averages\n",
    "window = Window.partitionBy(\"City\").orderBy(\"Month_Num\")\n",
    "df = df.withColumn(\"lag_1\", lag(\"Total_Sales\", 1).over(window)) \\\n",
    "       .withColumn(\"lag_2\", lag(\"Total_Sales\", 2).over(window)) \\\n",
    "       .withColumn(\"rolling_avg_3\", avg(\"Total_Sales\").over(window.rowsBetween(-2, 0)))\n",
    "\n",
    "# Fill nulls (first rows)\n",
    "df = df.fillna(0, subset=[\"lag_1\", \"lag_2\", \"rolling_avg_3\"])\n",
    "\n",
    "# Features\n",
    "feature_cols = [\"Month_Num\", \"lag_1\", \"lag_2\", \"rolling_avg_3\"]\n",
    "assembler = VectorAssembler(inputCols=feature_cols, outputCol=\"features\")\n",
    "data = assembler.transform(df.select(\"Total_Sales\", *feature_cols))\n",
    "\n",
    "# Train/test split\n",
    "train, test = data.randomSplit([0.8, 0.2], seed=42)\n",
    "\n",
    "# ======================================\n",
    "# Models\n",
    "# ======================================\n",
    "models = {\n",
    "    \"LinearRegression\": LinearRegression(featuresCol=\"features\", labelCol=\"Total_Sales\"),\n",
    "    \"DecisionTree\": DecisionTreeRegressor(featuresCol=\"features\", labelCol=\"Total_Sales\"),\n",
    "    \"RandomForest\": RandomForestRegressor(featuresCol=\"features\", labelCol=\"Total_Sales\", numTrees=50),\n",
    "    \"GBT\": GBTRegressor(featuresCol=\"features\", labelCol=\"Total_Sales\", maxIter=50)\n",
    "}\n",
    "if has_xgb:\n",
    "    models[\"XGBoost\"] = XGBoostRegressor(objective=\"reg:squarederror\", featuresCol=\"features\",\n",
    "                                         labelCol=\"Total_Sales\", numRound=50)\n",
    "\n",
    "# ======================================\n",
    "# Training + MLflow logging\n",
    "# ======================================\n",
    "evaluator = RegressionEvaluator(labelCol=\"Total_Sales\", predictionCol=\"prediction\", metricName=\"rmse\")\n",
    "predictions_dict = {}\n",
    "results = {}\n",
    "\n",
    "for name, model in models.items():\n",
    "    with mlflow.start_run(run_name=name) as run:\n",
    "        pipeline = Pipeline(stages=[model])\n",
    "\n",
    "        # Optional: Cross-validation (example for RandomForest and GBT)\n",
    "        if name in [\"RandomForest\", \"GBT\"]:\n",
    "            paramGrid = ParamGridBuilder().build()  # expand if tuning\n",
    "            cv = CrossValidator(estimator=pipeline, estimatorParamMaps=paramGrid, evaluator=evaluator, numFolds=3)\n",
    "            fitted = cv.fit(train)\n",
    "        else:\n",
    "            fitted = pipeline.fit(train)\n",
    "\n",
    "        # Predictions\n",
    "        preds = fitted.transform(test).select(\"Month_Num\", \"Total_Sales\", \"prediction\").orderBy(\"Month_Num\")\n",
    "        rmse = evaluator.evaluate(preds)\n",
    "\n",
    "        # MLflow log\n",
    "        mlflow.log_param(\"model_type\", name)\n",
    "        mlflow.log_metric(\"rmse\", rmse)\n",
    "        mlflow.spark.log_model(fitted, \"model\")\n",
    "\n",
    "        try:\n",
    "            mv = client.create_model_version(name=registry_name,\n",
    "                                             source=f\"runs:/{run.info.run_id}/model\",\n",
    "                                             run_id=run.info.run_id)\n",
    "            print(f\"{name}: registered as version {mv.version}\")\n",
    "        except:\n",
    "            print(f\"{name}: registry skipped\")\n",
    "\n",
    "        results[name] = rmse\n",
    "        predictions_dict[name] = preds.toPandas()\n",
    "\n",
    "        # Save table for Power BI\n",
    "        table_name = f\"PowerBI_Regression_{name}\"\n",
    "        preds.write.format(\"delta\").mode(\"overwrite\").saveAsTable(table_name)\n",
    "        print(f\"Saved predictions to {table_name}\")\n",
    "\n",
    "# ======================================\n",
    "# Plotly visualization\n",
    "# ======================================\n",
    "fig = go.Figure()\n",
    "actual = list(predictions_dict.values())[0]\n",
    "fig.add_trace(go.Scatter(x=actual[\"Month_Num\"], y=actual[\"Total_Sales\"], mode='lines+markers', name=\"Actual\", line=dict(color='black', width=3)))\n",
    "colors = ['red', 'blue', 'green', 'orange', 'purple', 'brown']\n",
    "for i, (name, pdf) in enumerate(predictions_dict.items()):\n",
    "    fig.add_trace(go.Scatter(x=pdf[\"Month_Num\"], y=pdf[\"prediction\"], mode='lines+markers', name=name, line=dict(color=colors[i%len(colors)], width=2)))\n",
    "\n",
    "fig.update_layout(title=\"Actual vs Predicted Total_Sales per Month\",\n",
    "                  xaxis_title=\"Month_Num\",\n",
    "                  yaxis_title=\"Total_Sales\",\n",
    "                  legend_title=\"Models\",\n",
    "                  template=\"plotly_white\")\n",
    "fig.show()\n",
    "\n",
    "print(\"\\nRMSE summary:\", results)\n"
   ]
  }
 ],
 "metadata": {
  "application/vnd.databricks.v1+notebook": {
   "computePreferences": null,
   "dashboards": [],
   "environmentMetadata": null,
   "inputWidgetPreferences": null,
   "language": "python",
   "notebookMetadata": {},
   "notebookName": "Retail_ml_Regression",
   "widgets": {}
  },
  "dependencies": {
   "lakehouse": {
    "default_lakehouse": "474a6200-1c4a-4e69-83b4-ef327ce76c41",
    "default_lakehouse_name": "retail",
    "default_lakehouse_workspace_id": "07c9281e-fed4-4aa3-aa2f-fb3b5ede90da",
    "known_lakehouses": [
     {
      "id": "474a6200-1c4a-4e69-83b4-ef327ce76c41"
     }
    ]
   }
  },
  "kernel_info": {
   "name": "synapse_pyspark"
  },
  "language_info": {
   "name": "python"
  },
  "microsoft": {
   "language": "python",
   "language_group": "synapse_pyspark",
   "ms_spell_check": {
    "ms_spell_check_language": "en"
   }
  },
  "nteract": {
   "version": "nteract-front-end@1.0.0"
  },
  "orig_nbformat": 4,
  "spark_compute": {
   "compute_id": "/trident/default",
   "session_options": {
    "conf": {
     "spark.synapse.nbs.session.timeout": "1200000"
    }
   }
  }
 },
 "nbformat": 4,
 "nbformat_minor": 0
}
