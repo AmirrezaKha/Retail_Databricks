{
 "cells": [
  {
   "cell_type": "code",
   "execution_count": 0,
   "metadata": {
    "application/vnd.databricks.v1+cell": {
     "cellMetadata": {
      "byteLimit": 2048000,
      "rowLimit": 10000
     },
     "inputWidgets": {},
     "nuid": "84cb95fd-155d-457f-a5f3-387cbcd6bb73",
     "showTitle": false,
     "tableResultSettingsMap": {},
     "title": ""
    }
   },
   "outputs": [],
   "source": [
    "# Databricks notebook: Bronze Layer - Raw Data Ingestion\n",
    "from pyspark.sql import SparkSession\n",
    "\n",
    "spark = SparkSession.builder.appName(\"BronzeLayerRetailIngestion\").getOrCreate()\n",
    "\n",
    "# ================================\n",
    "# 1. Load dataset from uploaded table\n",
    "# ================================\n",
    "print(\"🔹 Loading raw dataset from existing Databricks table ...\")\n",
    "\n",
    "# Load table directly instead of reading CSV\n",
    "bronze_df = spark.table(\"workspace.default.retail_transactions_dataset\")\n",
    "\n",
    "print(\"✅ Sample of raw data:\")\n",
    "bronze_df.show(5, truncate=False)\n",
    "\n",
    "# ================================\n",
    "# 2. Save as Bronze Delta Table\n",
    "# ================================\n",
    "print(\"💾 Writing Bronze_Retail Delta table ...\")\n",
    "\n",
    "bronze_df.write.format(\"delta\").mode(\"overwrite\").saveAsTable(\"Bronze_Retail\")\n",
    "\n",
    "record_count = spark.table(\"Bronze_Retail\").count()\n",
    "print(f\"✅ Bronze layer saved successfully with {record_count} records.\")\n",
    "\n",
    "display(spark.sql(\"SELECT * FROM Bronze_Retail LIMIT 10\"))\n"
   ]
  }
 ],
 "metadata": {
  "application/vnd.databricks.v1+notebook": {
   "computePreferences": null,
   "dashboards": [],
   "environmentMetadata": {
    "base_environment": "",
    "environment_version": "4"
   },
   "inputWidgetPreferences": null,
   "language": "python",
   "notebookMetadata": {
    "pythonIndentUnit": 4
   },
   "notebookName": "1_bronze_retail_ingest.py",
   "widgets": {}
  },
  "language_info": {
   "name": "python"
  }
 },
 "nbformat": 4,
 "nbformat_minor": 0
}
