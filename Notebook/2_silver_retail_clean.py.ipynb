{
 "cells": [
  {
   "cell_type": "code",
   "execution_count": 0,
   "metadata": {
    "application/vnd.databricks.v1+cell": {
     "cellMetadata": {
      "byteLimit": 2048000,
      "rowLimit": 10000
     },
     "inputWidgets": {},
     "nuid": "8765fc56-ea04-4dcb-8de0-163056a67278",
     "showTitle": false,
     "tableResultSettingsMap": {},
     "title": ""
    }
   },
   "outputs": [],
   "source": [
    "# Databricks notebook: Silver Layer - Data Cleaning & Enrichment\n",
    "from pyspark.sql import SparkSession\n",
    "from pyspark.sql.functions import col, to_timestamp, month, when, lit\n",
    "\n",
    "spark = SparkSession.builder.getOrCreate()\n",
    "\n",
    "# ================================\n",
    "# 1. Read Bronze Table\n",
    "# ================================\n",
    "bronze_df = spark.table(\"Bronze_Retail\")\n",
    "print(f\"🔹 Bronze record count: {bronze_df.count()}\")\n",
    "\n",
    "# ================================\n",
    "# 2. Data Cleaning & Type Casting\n",
    "# ================================\n",
    "silver_df = (\n",
    "    bronze_df\n",
    "    .withColumn(\"Date\", to_timestamp(col(\"Date\"), \"M/d/yyyy H:mm\"))\n",
    "    .withColumn(\"Discount_Applied\", col(\"Discount_Applied\").cast(\"boolean\"))\n",
    "    .withColumn(\"Total_Items\", col(\"Total_Items\").cast(\"int\"))\n",
    "    .withColumn(\"Total_Cost\", col(\"Total_Cost\").cast(\"double\"))\n",
    ")\n",
    "\n",
    "# Optional: Derive \"Season\" column for better analytics\n",
    "silver_df = silver_df.withColumn(\"MonthNum\", month(col(\"Date\")))\n",
    "silver_df = silver_df.withColumn(\n",
    "    \"Season\",\n",
    "    when(col(\"MonthNum\").isin(12, 1, 2), lit(\"Winter\"))\n",
    "    .when(col(\"MonthNum\").isin(3, 4, 5), lit(\"Spring\"))\n",
    "    .when(col(\"MonthNum\").isin(6, 7, 8), lit(\"Summer\"))\n",
    "    .when(col(\"MonthNum\").isin(9, 10, 11), lit(\"Fall\"))\n",
    ")\n",
    "\n",
    "# Drop helper column\n",
    "silver_df = silver_df.drop(\"MonthNum\")\n",
    "\n",
    "print(\"✅ Sample of cleaned & enriched data:\")\n",
    "silver_df.show(5, truncate=False)\n",
    "\n",
    "# ================================\n",
    "# 3. Save Silver Table (Cleaned Data)\n",
    "# ================================\n",
    "silver_df.write.format(\"delta\").mode(\"overwrite\").saveAsTable(\"Silver_Retail\")\n",
    "\n",
    "print(f\"✅ Silver layer saved successfully with {silver_df.count()} records.\")\n"
   ]
  }
 ],
 "metadata": {
  "application/vnd.databricks.v1+notebook": {
   "computePreferences": null,
   "dashboards": [],
   "environmentMetadata": {
    "base_environment": "",
    "environment_version": "4"
   },
   "inputWidgetPreferences": null,
   "language": "python",
   "notebookMetadata": {
    "pythonIndentUnit": 4
   },
   "notebookName": "2_silver_retail_clean.py",
   "widgets": {}
  },
  "language_info": {
   "name": "python"
  }
 },
 "nbformat": 4,
 "nbformat_minor": 0
}
